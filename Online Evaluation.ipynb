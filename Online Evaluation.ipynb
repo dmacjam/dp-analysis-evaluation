{
 "cells": [
  {
   "cell_type": "markdown",
   "metadata": {},
   "source": [
    "# Online EdX experiment evaluation\n",
    "A/B experiment was conducted on [CaltechDelftX: QuCryptox Quantum cryptography](https://courses.edx.org/courses/course-v1:CaltechDelftX+QuCryptox+3T2016) MOOC course offered by **Caltech University** and **TU Delft** at **EdX platform**. In this document, we are evaluating our proposed **question routing (recommendation of new questions) framework**. Users were split into three groups:\n",
    "\n",
    "1. Question recommendation with educational-context group\n",
    "2. Question recommendation without educational-context group\n",
    "3. Control group without question recommendation\n",
    "\n",
    "\n",
    "Course lasted 11 weeks from 3.10.2016 to 20.12.2016.\n",
    "\n",
    "Online experiment started 14.11.2016 (start of week \\#6). \n",
    "\n",
    "Welcome category is not considered (category_id = 2)."
   ]
  },
  {
   "cell_type": "code",
   "execution_count": 50,
   "metadata": {
    "collapsed": true
   },
   "outputs": [],
   "source": [
    "# imports\n",
    "import pandas as pd, numpy as np\n",
    "from matplotlib import pyplot as plt\n",
    "import seaborn as sns\n",
    "import psycopg2 as pg\n",
    "import pandas.io.sql as psql\n",
    "import matplotlib\n",
    "matplotlib.style.use('ggplot')\n",
    "from IPython.display import display\n",
    "import scipy.stats as stats\n",
    "\n",
    "# graphics setup\n",
    "%matplotlib inline\n",
    "sns.set(color_codes=True)\n",
    "\n",
    "# set up connection to the database\n",
    "connection = pg.connect(database=\"askalot_edx_development\", user=\"postgres\", port=5432, \n",
    "                        host=\"localhost\", password=\"\")"
   ]
  },
  {
   "cell_type": "markdown",
   "metadata": {},
   "source": [
    "## A/B groups statistics"
   ]
  },
  {
   "cell_type": "markdown",
   "metadata": {},
   "source": [
    "### Users in groups are distributed evenly "
   ]
  },
  {
   "cell_type": "code",
   "execution_count": 51,
   "metadata": {
    "collapsed": false
   },
   "outputs": [
    {
     "data": {
      "text/html": [
       "<div>\n",
       "<table border=\"1\" class=\"dataframe\">\n",
       "  <thead>\n",
       "    <tr style=\"text-align: right;\">\n",
       "      <th></th>\n",
       "      <th>id</th>\n",
       "      <th>value</th>\n",
       "      <th>count</th>\n",
       "    </tr>\n",
       "  </thead>\n",
       "  <tbody>\n",
       "    <tr>\n",
       "      <th>0</th>\n",
       "      <td>1</td>\n",
       "      <td>Question routing full</td>\n",
       "      <td>1304</td>\n",
       "    </tr>\n",
       "    <tr>\n",
       "      <th>1</th>\n",
       "      <td>2</td>\n",
       "      <td>Question routing baseline</td>\n",
       "      <td>1305</td>\n",
       "    </tr>\n",
       "    <tr>\n",
       "      <th>2</th>\n",
       "      <td>3</td>\n",
       "      <td>Control group for question routing</td>\n",
       "      <td>1306</td>\n",
       "    </tr>\n",
       "  </tbody>\n",
       "</table>\n",
       "</div>"
      ],
      "text/plain": [
       "   id                               value  count\n",
       "0   1               Question routing full   1304\n",
       "1   2           Question routing baseline   1305\n",
       "2   3  Control group for question routing   1306"
      ]
     },
     "execution_count": 51,
     "metadata": {},
     "output_type": "execute_result"
    }
   ],
   "source": [
    "users = psql.read_sql(\"SELECT g.id, g.value, COUNT(*) FROM ab_groupings ab \"+\n",
    "                      \"JOIN ab_groups g ON g.id=ab.ab_group_id GROUP BY g.id ORDER BY g.id\", connection)\n",
    "users"
   ]
  },
  {
   "cell_type": "markdown",
   "metadata": {},
   "source": [
    "Users who signed up for the course during online experiment did not get a recommendation (control group) and they are not part of the analysis."
   ]
  },
  {
   "cell_type": "markdown",
   "metadata": {},
   "source": [
    "### Question routing recommended 118 questions during online experiment\n",
    "Each question was recommended to both 10 most suitable users from educational-context group and to 10 most suitable users from group without educational context. "
   ]
  },
  {
   "cell_type": "code",
   "execution_count": 52,
   "metadata": {
    "collapsed": false
   },
   "outputs": [
    {
     "data": {
      "text/html": [
       "<div>\n",
       "<table border=\"1\" class=\"dataframe\">\n",
       "  <thead>\n",
       "    <tr style=\"text-align: right;\">\n",
       "      <th></th>\n",
       "      <th>value</th>\n",
       "      <th>Total number of recommended questions</th>\n",
       "    </tr>\n",
       "  </thead>\n",
       "  <tbody>\n",
       "    <tr>\n",
       "      <th>0</th>\n",
       "      <td>Question routing full</td>\n",
       "      <td>118</td>\n",
       "    </tr>\n",
       "    <tr>\n",
       "      <th>1</th>\n",
       "      <td>Question routing baseline</td>\n",
       "      <td>118</td>\n",
       "    </tr>\n",
       "  </tbody>\n",
       "</table>\n",
       "</div>"
      ],
      "text/plain": [
       "                       value  Total number of recommended questions\n",
       "0      Question routing full                                    118\n",
       "1  Question routing baseline                                    118"
      ]
     },
     "metadata": {},
     "output_type": "display_data"
    },
    {
     "data": {
      "text/html": [
       "<div>\n",
       "<table border=\"1\" class=\"dataframe\">\n",
       "  <thead>\n",
       "    <tr style=\"text-align: right;\">\n",
       "      <th></th>\n",
       "      <th>id</th>\n",
       "      <th>value</th>\n",
       "      <th>Total number of generated recommendations</th>\n",
       "    </tr>\n",
       "  </thead>\n",
       "  <tbody>\n",
       "    <tr>\n",
       "      <th>0</th>\n",
       "      <td>1</td>\n",
       "      <td>Question routing full</td>\n",
       "      <td>1163</td>\n",
       "    </tr>\n",
       "    <tr>\n",
       "      <th>1</th>\n",
       "      <td>2</td>\n",
       "      <td>Question routing baseline</td>\n",
       "      <td>1173</td>\n",
       "    </tr>\n",
       "  </tbody>\n",
       "</table>\n",
       "</div>"
      ],
      "text/plain": [
       "   id                      value  Total number of generated recommendations\n",
       "0   1      Question routing full                                       1163\n",
       "1   2  Question routing baseline                                       1173"
      ]
     },
     "execution_count": 52,
     "metadata": {},
     "output_type": "execute_result"
    }
   ],
   "source": [
    "answers_count = psql.read_sql(\"\"\"\n",
    "                                SELECT g.value, COUNT(DISTINCT(n.resource_id)) AS \"Total number of recommended questions\" \n",
    "                                FROM notifications as n \n",
    "                                JOIN ab_groupings ab ON ab.user_id = n.recipient_id \n",
    "                                JOIN ab_groups g ON g.id=ab.ab_group_id\n",
    "                                WHERE n.action = 'recommendation' AND n.created_at < '2016-12-20'\n",
    "                                GROUP BY g.id\n",
    "                              \"\"\", connection)\n",
    "display(answers_count)\n",
    "rec_count = psql.read_sql(\"\"\"\n",
    "                                SELECT g.id, g.value, COUNT(DISTINCT(n.id)) AS \"Total number of generated recommendations\" \n",
    "                                FROM notifications as n \n",
    "                                JOIN ab_groupings ab ON ab.user_id = n.recipient_id \n",
    "                                JOIN ab_groups g ON g.id=ab.ab_group_id\n",
    "                                WHERE n.action = 'recommendation' AND n.created_at < '2016-12-20'\n",
    "                                GROUP BY g.id\n",
    "                              \"\"\", connection)\n",
    "rec_count"
   ]
  },
  {
   "cell_type": "markdown",
   "metadata": {},
   "source": [
    "### Recommendation click-through rate was more than 20%\n",
    "Recommendation was send to users by both notifications in Askalot CQA system and recommended list of questions  were shown on their dashboard. \n",
    "\n",
    "Click-through rate is computed as portion of read recommendations to total number of recommendations."
   ]
  },
  {
   "cell_type": "code",
   "execution_count": 53,
   "metadata": {
    "collapsed": false
   },
   "outputs": [
    {
     "data": {
      "text/html": [
       "<div>\n",
       "<table border=\"1\" class=\"dataframe\">\n",
       "  <thead>\n",
       "    <tr style=\"text-align: right;\">\n",
       "      <th></th>\n",
       "      <th>Absolute count</th>\n",
       "      <th>Unique users</th>\n",
       "      <th>Total CTR</th>\n",
       "    </tr>\n",
       "  </thead>\n",
       "  <tbody>\n",
       "    <tr>\n",
       "      <th>0</th>\n",
       "      <td>491</td>\n",
       "      <td>73</td>\n",
       "      <td>0.208051</td>\n",
       "    </tr>\n",
       "  </tbody>\n",
       "</table>\n",
       "</div>"
      ],
      "text/plain": [
       "   Absolute count  Unique users  Total CTR\n",
       "0             491            73   0.208051"
      ]
     },
     "metadata": {},
     "output_type": "display_data"
    },
    {
     "data": {
      "text/html": [
       "<div>\n",
       "<table border=\"1\" class=\"dataframe\">\n",
       "  <thead>\n",
       "    <tr style=\"text-align: right;\">\n",
       "      <th></th>\n",
       "      <th>value</th>\n",
       "      <th>Unique users</th>\n",
       "      <th>portion</th>\n",
       "    </tr>\n",
       "  </thead>\n",
       "  <tbody>\n",
       "    <tr>\n",
       "      <th>0</th>\n",
       "      <td>Question routing full</td>\n",
       "      <td>37</td>\n",
       "      <td>0.111441</td>\n",
       "    </tr>\n",
       "    <tr>\n",
       "      <th>1</th>\n",
       "      <td>Question routing baseline</td>\n",
       "      <td>33</td>\n",
       "      <td>0.088983</td>\n",
       "    </tr>\n",
       "  </tbody>\n",
       "</table>\n",
       "</div>"
      ],
      "text/plain": [
       "                       value  Unique users   portion\n",
       "0      Question routing full            37  0.111441\n",
       "1  Question routing baseline            33  0.088983"
      ]
     },
     "metadata": {},
     "output_type": "display_data"
    },
    {
     "data": {
      "text/html": [
       "<div>\n",
       "<table border=\"1\" class=\"dataframe\">\n",
       "  <thead>\n",
       "    <tr style=\"text-align: right;\">\n",
       "      <th></th>\n",
       "      <th>From dashboard</th>\n",
       "      <th>Absolute count</th>\n",
       "      <th>Unique users</th>\n",
       "      <th>Portion of CTR</th>\n",
       "    </tr>\n",
       "  </thead>\n",
       "  <tbody>\n",
       "    <tr>\n",
       "      <th>0</th>\n",
       "      <td>False</td>\n",
       "      <td>433</td>\n",
       "      <td>61</td>\n",
       "      <td>0.881874</td>\n",
       "    </tr>\n",
       "    <tr>\n",
       "      <th>1</th>\n",
       "      <td>True</td>\n",
       "      <td>58</td>\n",
       "      <td>23</td>\n",
       "      <td>0.118126</td>\n",
       "    </tr>\n",
       "  </tbody>\n",
       "</table>\n",
       "</div>"
      ],
      "text/plain": [
       "  From dashboard  Absolute count  Unique users  Portion of CTR\n",
       "0          False             433            61        0.881874\n",
       "1           True              58            23        0.118126"
      ]
     },
     "metadata": {},
     "output_type": "display_data"
    },
    {
     "data": {
      "text/plain": [
       "<matplotlib.text.Text at 0x7fa4b26d0650>"
      ]
     },
     "execution_count": 53,
     "metadata": {},
     "output_type": "execute_result"
    },
    {
     "data": {
      "image/png": "[encoded data removed]",
      "text/plain": [
       "<matplotlib.figure.Figure at 0x7fa4b1e4efd0>"
      ]
     },
     "metadata": {},
     "output_type": "display_data"
    }
   ],
   "source": [
    "ctr = psql.read_sql(\"\"\"   \n",
    "    SELECT COUNT(n.recipient_id) as \"Absolute count\", COUNT(DISTINCT(n.recipient_id)) AS \"Unique users\", CAST(COUNT(n.id) AS FLOAT) / (SELECT COUNT(*) FROM notifications WHERE action= 'recommendation' AND created_at < '2016-12-20') as \"Total CTR\"\n",
    "    FROM notifications as n WHERE n.action= 'recommendation' AND n.unread = FALSE AND n.created_at < '2016-12-20'\n",
    "    \"\"\",connection)\n",
    "display(ctr)\n",
    "\n",
    "ctr_by_groups = psql.read_sql(\"\"\"\n",
    "    SELECT g.value, COUNT(DISTINCT(n.recipient_id)) AS \"Unique users\", CAST(COUNT(n.recipient_id) AS FLOAT) / (SELECT COUNT(*) FROM notifications WHERE action= 'recommendation' AND created_at < '2016-12-20') as portion\n",
    "    FROM notifications as n \n",
    "    JOIN ab_groupings ab ON ab.user_id = n.recipient_id\n",
    "    JOIN ab_groups g ON g.id=ab.ab_group_id\n",
    "    WHERE n.action= 'recommendation' AND n.unread = FALSE AND n.created_at < '2016-12-20'\n",
    "    GROUP BY g.id ORDER BY g.id\n",
    "    \"\"\", connection)\n",
    "display(ctr_by_groups)\n",
    "\n",
    "ctr_from_dashboard = psql.read_sql(\"\"\"   \n",
    "    SELECT n.from_dashboard AS \"From dashboard\", COUNT(n.recipient_id) as \"Absolute count\", COUNT(DISTINCT(n.recipient_id)) AS \"Unique users\", CAST(COUNT(n.recipient_id) AS FLOAT) / (SELECT COUNT(*) FROM notifications WHERE action= 'recommendation' AND unread=FALSE AND created_at < '2016-12-20') as \"Portion of CTR\" \n",
    "    FROM notifications as n WHERE n.action= 'recommendation' AND n.unread = FALSE  AND n.created_at < '2016-12-20' GROUP BY n.from_dashboard \"\"\",connection)\n",
    "display(ctr_from_dashboard)\n",
    "\n",
    "ctr_by_users = psql.read_sql(\"\"\"\n",
    "    SELECT g.value, n.recipient_id, COUNT(n.id)::float / (SELECT COUNT(*) FROM notifications x WHERE x.action= 'recommendation' AND n.recipient_id=x.recipient_id) AS \"portion\"\n",
    "    FROM notifications as n \n",
    "    JOIN ab_groupings ab ON ab.user_id = n.recipient_id\n",
    "    JOIN ab_groups g ON g.id=ab.ab_group_id\n",
    "    WHERE n.action= 'recommendation' AND n.unread = FALSE AND n.created_at < '2016-12-20'\n",
    "    GROUP BY g.id, n.recipient_id ORDER BY g.id, COUNT(n.id) DESC\n",
    "    \"\"\", connection)\n",
    "plt.figure(figsize=(7,3))\n",
    "ctr_by_users.groupby('value')['portion'].plot.hist(alpha=0.6, bins=5, legend=True)\n",
    "plt.xlabel('Portion of read notification')"
   ]
  },
  {
   "cell_type": "markdown",
   "metadata": {},
   "source": [
    "Group with educational context has better CTR by 2.2% and it has 3 more users who read any recommendation. From the histogram above, it is possible to see that baseline group has more users who read all the notifications or only a few.\n",
    "\n",
    "Notifications were 7 times more efficient for sending a recommendation than list of questions at the dasboard."
   ]
  },
  {
   "cell_type": "markdown",
   "metadata": {},
   "source": [
    "### Question routing with educational-context has better recommendation success rate\n",
    "Recommendations which were answered or commented by the recipient of the recommendation."
   ]
  },
  {
   "cell_type": "code",
   "execution_count": 54,
   "metadata": {
    "collapsed": false
   },
   "outputs": [
    {
     "data": {
      "text/html": [
       "<div>\n",
       "<table border=\"1\" class=\"dataframe\">\n",
       "  <thead>\n",
       "    <tr style=\"text-align: right;\">\n",
       "      <th></th>\n",
       "      <th>value</th>\n",
       "      <th>success_count</th>\n",
       "      <th>Total number of generated recommendations</th>\n",
       "      <th>success_portion</th>\n",
       "    </tr>\n",
       "  </thead>\n",
       "  <tbody>\n",
       "    <tr>\n",
       "      <th>0</th>\n",
       "      <td>Question routing full</td>\n",
       "      <td>22</td>\n",
       "      <td>1163</td>\n",
       "      <td>0.018917</td>\n",
       "    </tr>\n",
       "    <tr>\n",
       "      <th>1</th>\n",
       "      <td>Question routing baseline</td>\n",
       "      <td>5</td>\n",
       "      <td>1173</td>\n",
       "      <td>0.004263</td>\n",
       "    </tr>\n",
       "  </tbody>\n",
       "</table>\n",
       "</div>"
      ],
      "text/plain": [
       "                       value  success_count  \\\n",
       "0      Question routing full             22   \n",
       "1  Question routing baseline              5   \n",
       "\n",
       "   Total number of generated recommendations  success_portion  \n",
       "0                                       1163         0.018917  \n",
       "1                                       1173         0.004263  "
      ]
     },
     "execution_count": 54,
     "metadata": {},
     "output_type": "execute_result"
    }
   ],
   "source": [
    "success_rec = psql.read_sql(\"\"\"\n",
    "    SELECT ab.ab_group_id, n.id as n_id, n.created_at, n.unread, n.read_at, n.from_dashboard, q.title, q.author_id, q.text, q.created_at, a.author_id, a.text, a.created_at\n",
    "    FROM notifications as n INNER JOIN questions q ON q.id = n.resource_id INNER JOIN answers a ON n.recipient_id = a.author_id AND q.id=a.question_id \n",
    "    INNER JOIN ab_groupings ab ON ab.user_id = n.recipient_id WHERE n.action= 'recommendation'\n",
    "    UNION ALL\n",
    "    SELECT ab.ab_group_id, n.id as n_id, n.created_at, n.unread, n.read_at, n.from_dashboard, q.title, q.author_id, q.text, q.created_at, c.author_id, c.text, c.created_at\n",
    "    FROM notifications as n INNER JOIN questions q ON q.id = n.resource_id INNER JOIN comments c ON (n.recipient_id = c.author_id AND q.id=c.commentable_id AND c.commentable_type = 'Shared::Question') \n",
    "    INNER JOIN ab_groupings ab ON ab.user_id = n.recipient_id WHERE n.action= 'recommendation'\n",
    "    \"\"\",connection)\n",
    "\n",
    "success_rec = success_rec.groupby('ab_group_id')['n_id'].count().to_frame(name = 'success_count').reset_index()\n",
    "success_rec = pd.merge(success_rec, rec_count, left_on='ab_group_id', right_on=\"id\", how='inner')\n",
    "success_rec['success_portion'] = success_rec['success_count'] / success_rec['Total number of generated recommendations']\n",
    "success_rec[['value', 'success_count', 'Total number of generated recommendations', 'success_portion']]"
   ]
  },
  {
   "cell_type": "markdown",
   "metadata": {},
   "source": [
    "### Questions count"
   ]
  },
  {
   "cell_type": "code",
   "execution_count": 55,
   "metadata": {
    "collapsed": false
   },
   "outputs": [
    {
     "name": "stdout",
     "output_type": "stream",
     "text": [
      "Questions before online experiment: 241\n",
      "Questions during online experiment: 114\n"
     ]
    }
   ],
   "source": [
    "questions_end = psql.read_sql(\"SELECT q.author_id, ab.ab_group_id FROM questions q JOIN ab_groupings ab ON q.author_id = ab.user_id \"+\n",
    "                          \"WHERE q.created_at >= '2016-11-14' AND q.created_at < '2016-12-20'\", connection)\n",
    "questions_start = psql.read_sql(\"SELECT q.author_id, ab.ab_group_id FROM questions q JOIN ab_groupings ab ON q.author_id = ab.user_id \"+\n",
    "                          \"WHERE q.created_at < '2016-11-14'\", connection)\n",
    "\n",
    "print(\"Questions before online experiment: %d\" % questions_start.shape[0])\n",
    "print(\"Questions during online experiment: %d\" % questions_end.shape[0])"
   ]
  },
  {
   "cell_type": "markdown",
   "metadata": {},
   "source": [
    "Note: Deletion of some questions by users cause the difference between recommended questions and total number of questions during online experiment.  "
   ]
  },
  {
   "cell_type": "markdown",
   "metadata": {},
   "source": [
    "### Answers count"
   ]
  },
  {
   "cell_type": "code",
   "execution_count": 56,
   "metadata": {
    "collapsed": false
   },
   "outputs": [
    {
     "name": "stdout",
     "output_type": "stream",
     "text": [
      "Answers before online experiment: 250\n",
      "Answers during online experiment: 129\n"
     ]
    }
   ],
   "source": [
    "answers_end = psql.read_sql(\"SELECT a.author_id, ab.ab_group_id FROM answers a JOIN ab_groupings ab ON a.author_id = ab.user_id \"+\n",
    "                          \"JOIN questions q ON q.id=a.question_id WHERE a.created_at >= '2016-11-14' AND a.created_at < '2016-12-20'\", connection)\n",
    "answers_start = psql.read_sql(\"SELECT a.author_id, ab.ab_group_id FROM answers a JOIN ab_groupings ab ON a.author_id = ab.user_id \"+\n",
    "                          \"JOIN questions q ON q.id=a.question_id WHERE a.created_at < '2016-11-14'\", connection)\n",
    "# professor - AND a.author_id != 4\n",
    "\n",
    "print(\"Answers before online experiment: %d\" % answers_start.shape[0])\n",
    "print(\"Answers during online experiment: %d\" % answers_end.shape[0])"
   ]
  },
  {
   "cell_type": "markdown",
   "metadata": {},
   "source": [
    "### Comments count"
   ]
  },
  {
   "cell_type": "code",
   "execution_count": 57,
   "metadata": {
    "collapsed": false
   },
   "outputs": [
    {
     "name": "stdout",
     "output_type": "stream",
     "text": [
      "Coments before online experiment: 383\n",
      "Comments during online experiment: 164\n"
     ]
    }
   ],
   "source": [
    "comments_end = psql.read_sql(\"SELECT c.author_id, ab.ab_group_id FROM comments c JOIN ab_groupings ab ON c.author_id = ab.user_id \"+\n",
    "                          \"WHERE c.created_at >= '2016-11-14' AND c.created_at < '2016-12-20'\", connection)\n",
    "comments_start = psql.read_sql(\"SELECT c.author_id, ab.ab_group_id FROM comments c JOIN ab_groupings ab ON c.author_id = ab.user_id \"+\n",
    "                          \"WHERE c.created_at < '2016-11-14'\", connection)\n",
    "\n",
    "print(\"Coments before online experiment: %d\" % comments_start.shape[0])\n",
    "print(\"Comments during online experiment: %d\" % comments_end.shape[0])"
   ]
  },
  {
   "cell_type": "markdown",
   "metadata": {},
   "source": [
    "## Course interaction"
   ]
  },
  {
   "cell_type": "code",
   "execution_count": 70,
   "metadata": {
    "collapsed": false
   },
   "outputs": [
    {
     "name": "stdout",
     "output_type": "stream",
     "text": [
      "Course interaction before online experiment: 55540\n",
      "Course interaction during online experiment: 54074\n",
      "Unique users interacting with a course before online experiment: 2436\n",
      "Unique users interacting with a course during online experiment: 850\n"
     ]
    }
   ],
   "source": [
    "interaction_end = psql.read_sql(\"SELECT l.lister_id, ab.ab_group_id FROM lists l JOIN ab_groupings ab ON l.lister_id = ab.user_id \"+\n",
    "                          \"WHERE l.created_at >= '2016-11-14' AND l.created_at < '2016-12-20'\", connection)\n",
    "interaction_start = psql.read_sql(\"SELECT l.lister_id, ab.ab_group_id FROM lists l JOIN ab_groupings ab ON l.lister_id = ab.user_id \"+\n",
    "                          \"WHERE l.created_at < '2016-11-14'\", connection)\n",
    "\n",
    "print(\"Course interaction before online experiment: %d\" % interaction_start.shape[0])\n",
    "print(\"Course interaction during online experiment: %d\" % interaction_end.shape[0])\n",
    "\n",
    "print(\"Unique users interacting with a course before online experiment: %d\" % interaction_start['lister_id'].nunique())\n",
    "print(\"Unique users interacting with a course during online experiment: %d\" % interaction_end['lister_id'].nunique())"
   ]
  },
  {
   "cell_type": "markdown",
   "metadata": {},
   "source": [
    "### Groups with question recommendation had more question views than control group "
   ]
  },
  {
   "cell_type": "code",
   "execution_count": 59,
   "metadata": {
    "collapsed": false
   },
   "outputs": [
    {
     "name": "stdout",
     "output_type": "stream",
     "text": [
      "Question views before online experiment: 10995\n",
      "Question views during online experiment: 6861\n"
     ]
    },
    {
     "data": {
      "text/plain": [
       "[<matplotlib.text.Text at 0x7fa4b1bf54d0>,\n",
       " <matplotlib.text.Text at 0x7fa4b1fdf350>]"
      ]
     },
     "execution_count": 59,
     "metadata": {},
     "output_type": "execute_result"
    },
    {
     "data": {
      "image/png": "[encoded data removed]",
      "text/plain": [
       "<matplotlib.figure.Figure at 0x7fa4b1e7fe50>"
      ]
     },
     "metadata": {},
     "output_type": "display_data"
    }
   ],
   "source": [
    "# read questions and filter columns\n",
    "views_end = psql.read_sql(\"SELECT v.viewer_id, ab.ab_group_id FROM views v JOIN ab_groupings ab ON v.viewer_id = ab.user_id \"+\n",
    "                          \"WHERE v.created_at >= '2016-11-14' AND v.created_at < '2016-12-20'\", connection)\n",
    "views_start = psql.read_sql(\"SELECT v.viewer_id, ab.ab_group_id FROM views v JOIN ab_groupings ab ON v.viewer_id = ab.user_id \"+\n",
    "                          \"WHERE v.created_at < '2016-11-14'\", connection)\n",
    "\n",
    "print(\"Question views before online experiment: %d\" % views_start.shape[0])\n",
    "print(\"Question views during online experiment: %d\" % views_end.shape[0])\n",
    "\n",
    "\n",
    "# Histogram views before\n",
    "views_by_groups = views_start.groupby('ab_group_id')[\"viewer_id\"].count()\n",
    "\n",
    "fig, (ax1, ax2) = plt.subplots(ncols=2, sharey=True, figsize=(10,3))\n",
    "views_by_groups.plot(kind=\"bar\", title=\"Question views before online experiment\", ax = ax1)\n",
    "ax1.set(xlabel='AB group id', ylabel='Frequency')\n",
    "\n",
    "# Histogram views during\n",
    "views_by_groups = views_end.groupby('ab_group_id')[\"viewer_id\"].count()\n",
    "\n",
    "views_by_groups.plot(kind=\"bar\", title=\"Question views during online experiment\", ax=ax2)\n",
    "ax2.set(xlabel='AB group id', ylabel='Frequency')"
   ]
  },
  {
   "cell_type": "markdown",
   "metadata": {},
   "source": [
    "### Unique users with answers and comments\n",
    "Comparing contributing users (answering, commenting) before the online experiment and during the online experiment?"
   ]
  },
  {
   "cell_type": "code",
   "execution_count": 60,
   "metadata": {
    "collapsed": false
   },
   "outputs": [
    {
     "data": {
      "text/plain": [
       "[<matplotlib.text.Text at 0x7fa4b1ffef90>,\n",
       " <matplotlib.text.Text at 0x7fa4b2024050>]"
      ]
     },
     "execution_count": 60,
     "metadata": {},
     "output_type": "execute_result"
    },
    {
     "data": {
      "image/png": "[encoded data removed]",
      "text/plain": [
       "<matplotlib.figure.Figure at 0x7fa4b1e98c90>"
      ]
     },
     "metadata": {},
     "output_type": "display_data"
    }
   ],
   "source": [
    "users_start = psql.read_sql(\"\"\"\n",
    "    SELECT DISTINCT(a.author_id), a.ab_group_id FROM\n",
    "    ((SELECT a.author_id, ab.ab_group_id FROM answers a JOIN ab_groupings ab ON a.author_id = ab.user_id\n",
    "    JOIN questions q ON q.id=a.question_id\n",
    "    WHERE a.created_at < '2016-11-14')\n",
    "    UNION ALL\n",
    "    (SELECT c.author_id, ab.ab_group_id FROM comments c JOIN ab_groupings ab ON c.author_id = ab.user_id\n",
    "    WHERE c.created_at < '2016-11-14')\n",
    "    ) as a\n",
    "    \"\"\", connection)\n",
    "\n",
    "users_during = psql.read_sql(\"\"\"\n",
    "    SELECT DISTINCT(a.author_id), a.ab_group_id FROM\n",
    "    ((SELECT a.author_id, ab.ab_group_id FROM answers a JOIN ab_groupings ab ON a.author_id = ab.user_id\n",
    "    JOIN questions q ON q.id=a.question_id\n",
    "    WHERE a.created_at >= '2016-11-14' AND a.created_at < '2016-12-20')\n",
    "    UNION ALL\n",
    "    (SELECT c.author_id, ab.ab_group_id FROM comments c JOIN ab_groupings ab ON c.author_id = ab.user_id\n",
    "    WHERE c.created_at >= '2016-11-14' AND c.created_at < '2016-12-20')\n",
    "    ) as a\n",
    "    \"\"\", connection)\n",
    "\n",
    "fig, (ax1, ax2) = plt.subplots(ncols=2, sharey=True, figsize=(12,5))\n",
    "users_start.groupby('ab_group_id')[\"author_id\"].count().plot(kind=\"bar\", ax=ax1, title=\"Unique users contributing before the online experiment\")\n",
    "ax1.set(xlabel='AB group id', ylabel='Frequency')\n",
    "users_during.groupby('ab_group_id')[\"author_id\"].count().plot(kind=\"bar\", ax=ax2, title=\"Unique users contributing during the online experiment\")\n",
    "ax2.set(xlabel='AB group id', ylabel='Frequency')"
   ]
  },
  {
   "cell_type": "code",
   "execution_count": 61,
   "metadata": {
    "collapsed": false
   },
   "outputs": [
    {
     "name": "stdout",
     "output_type": "stream",
     "text": [
      "Statistics for groups before online experiment\n"
     ]
    },
    {
     "data": {
      "text/html": [
       "<div>\n",
       "<table border=\"1\" class=\"dataframe\">\n",
       "  <thead>\n",
       "    <tr style=\"text-align: right;\">\n",
       "      <th></th>\n",
       "      <th>ab_group_id</th>\n",
       "      <th>questions_count</th>\n",
       "      <th>answers_count</th>\n",
       "      <th>comments_count</th>\n",
       "      <th>interactions_count</th>\n",
       "      <th>unique_users_interacting</th>\n",
       "      <th>unique_users_contributing</th>\n",
       "    </tr>\n",
       "  </thead>\n",
       "  <tbody>\n",
       "    <tr>\n",
       "      <th>0</th>\n",
       "      <td>1</td>\n",
       "      <td>88</td>\n",
       "      <td>97</td>\n",
       "      <td>131</td>\n",
       "      <td>19178</td>\n",
       "      <td>814</td>\n",
       "      <td>32</td>\n",
       "    </tr>\n",
       "    <tr>\n",
       "      <th>1</th>\n",
       "      <td>2</td>\n",
       "      <td>84</td>\n",
       "      <td>75</td>\n",
       "      <td>125</td>\n",
       "      <td>18752</td>\n",
       "      <td>811</td>\n",
       "      <td>42</td>\n",
       "    </tr>\n",
       "    <tr>\n",
       "      <th>2</th>\n",
       "      <td>3</td>\n",
       "      <td>69</td>\n",
       "      <td>78</td>\n",
       "      <td>127</td>\n",
       "      <td>17610</td>\n",
       "      <td>811</td>\n",
       "      <td>34</td>\n",
       "    </tr>\n",
       "  </tbody>\n",
       "</table>\n",
       "</div>"
      ],
      "text/plain": [
       "   ab_group_id  questions_count  answers_count  comments_count  \\\n",
       "0            1               88             97             131   \n",
       "1            2               84             75             125   \n",
       "2            3               69             78             127   \n",
       "\n",
       "   interactions_count  unique_users_interacting  unique_users_contributing  \n",
       "0               19178                       814                         32  \n",
       "1               18752                       811                         42  \n",
       "2               17610                       811                         34  "
      ]
     },
     "metadata": {},
     "output_type": "display_data"
    },
    {
     "name": "stdout",
     "output_type": "stream",
     "text": [
      "Statistics for groups during online experiment\n"
     ]
    },
    {
     "data": {
      "text/html": [
       "<div>\n",
       "<table border=\"1\" class=\"dataframe\">\n",
       "  <thead>\n",
       "    <tr style=\"text-align: right;\">\n",
       "      <th></th>\n",
       "      <th>ab_group_id</th>\n",
       "      <th>questions_count</th>\n",
       "      <th>answers_count</th>\n",
       "      <th>comments_count</th>\n",
       "      <th>interactions_count</th>\n",
       "      <th>unique_users_interacting</th>\n",
       "      <th>unique_users_contributing</th>\n",
       "    </tr>\n",
       "  </thead>\n",
       "  <tbody>\n",
       "    <tr>\n",
       "      <th>0</th>\n",
       "      <td>1</td>\n",
       "      <td>45</td>\n",
       "      <td>79</td>\n",
       "      <td>94</td>\n",
       "      <td>29909</td>\n",
       "      <td>282</td>\n",
       "      <td>19</td>\n",
       "    </tr>\n",
       "    <tr>\n",
       "      <th>1</th>\n",
       "      <td>2</td>\n",
       "      <td>47</td>\n",
       "      <td>6</td>\n",
       "      <td>45</td>\n",
       "      <td>11311</td>\n",
       "      <td>267</td>\n",
       "      <td>11</td>\n",
       "    </tr>\n",
       "    <tr>\n",
       "      <th>2</th>\n",
       "      <td>3</td>\n",
       "      <td>22</td>\n",
       "      <td>44</td>\n",
       "      <td>25</td>\n",
       "      <td>12854</td>\n",
       "      <td>301</td>\n",
       "      <td>17</td>\n",
       "    </tr>\n",
       "  </tbody>\n",
       "</table>\n",
       "</div>"
      ],
      "text/plain": [
       "   ab_group_id  questions_count  answers_count  comments_count  \\\n",
       "0            1               45             79              94   \n",
       "1            2               47              6              45   \n",
       "2            3               22             44              25   \n",
       "\n",
       "   interactions_count  unique_users_interacting  unique_users_contributing  \n",
       "0               29909                       282                         19  \n",
       "1               11311                       267                         11  \n",
       "2               12854                       301                         17  "
      ]
     },
     "metadata": {},
     "output_type": "display_data"
    }
   ],
   "source": [
    "# Create before and during dataframe with answer, question and comments counts\n",
    "\n",
    "# Before\n",
    "# questions\n",
    "question_by_groups = questions_start.groupby('ab_group_id')[\"author_id\"].count()\n",
    "start_df = question_by_groups.to_frame(name = 'questions_count').reset_index()\n",
    "# answers\n",
    "answers_by_groups = answers_start.groupby('ab_group_id')[\"author_id\"].count()\n",
    "temp = answers_by_groups.to_frame(name = 'answers_count').reset_index()\n",
    "start_df = pd.merge(start_df, temp, on='ab_group_id', how='inner')\n",
    "# comments\n",
    "comments_by_groups = comments_start.groupby('ab_group_id')[\"author_id\"].count()\n",
    "temp = comments_by_groups.to_frame(name = 'comments_count').reset_index()\n",
    "start_df = pd.merge(start_df, temp, on='ab_group_id', how='inner')\n",
    "# Interactions\n",
    "interactions_by_groups = interaction_start.groupby('ab_group_id')[\"lister_id\"].count()\n",
    "temp = interactions_by_groups.to_frame(name = 'interactions_count').reset_index()\n",
    "start_df = pd.merge(start_df, temp, on='ab_group_id', how='inner')\n",
    "# Unique users interacting\n",
    "interactions_by_groups = interaction_start.groupby('ab_group_id')[\"lister_id\"].nunique()\n",
    "temp = interactions_by_groups.to_frame(name = 'unique_users_interacting').reset_index()\n",
    "start_df = pd.merge(start_df, temp, on='ab_group_id', how='inner')\n",
    "# Unique users contributing\n",
    "contributing_users_by_groups = users_start.groupby('ab_group_id')[\"author_id\"].nunique()\n",
    "temp = contributing_users_by_groups.to_frame(name = 'unique_users_contributing').reset_index()\n",
    "start_df = pd.merge(start_df, temp, on='ab_group_id', how='inner')\n",
    "\n",
    "\n",
    "print(\"Statistics for groups before online experiment\")\n",
    "display(start_df)\n",
    "\n",
    "# During\n",
    "# questions\n",
    "question_by_groups = questions_end.groupby('ab_group_id')[\"author_id\"].count()\n",
    "end_df = question_by_groups.to_frame(name = 'questions_count').reset_index()\n",
    "# answers\n",
    "answers_by_groups = answers_end.groupby('ab_group_id')[\"author_id\"].count()\n",
    "temp = answers_by_groups.to_frame(name = 'answers_count').reset_index()\n",
    "end_df = pd.merge(end_df, temp, on='ab_group_id', how='inner')\n",
    "# comments\n",
    "comments_by_groups = comments_end.groupby('ab_group_id')[\"author_id\"].count()\n",
    "temp = comments_by_groups.to_frame(name = 'comments_count').reset_index()\n",
    "end_df = pd.merge(end_df, temp, on='ab_group_id', how='inner')\n",
    "# interactions\n",
    "interactions_by_groups = interaction_end.groupby('ab_group_id')[\"lister_id\"].count()\n",
    "temp = interactions_by_groups.to_frame(name = 'interactions_count').reset_index()\n",
    "end_df = pd.merge(end_df, temp, on='ab_group_id', how='inner')\n",
    "# Unique users interacting\n",
    "interactions_by_groups = interaction_end.groupby('ab_group_id')[\"lister_id\"].nunique()\n",
    "temp = interactions_by_groups.to_frame(name = 'unique_users_interacting').reset_index()\n",
    "end_df = pd.merge(end_df, temp, on='ab_group_id', how='inner')\n",
    "# Unique users contributing\n",
    "interactions_by_groups = users_during.groupby('ab_group_id')[\"author_id\"].nunique()\n",
    "temp = interactions_by_groups.to_frame(name = 'unique_users_contributing').reset_index()\n",
    "end_df = pd.merge(end_df, temp, on='ab_group_id', how='inner')\n",
    "\n",
    "print(\"Statistics for groups during online experiment\")\n",
    "display(end_df)"
   ]
  },
  {
   "cell_type": "markdown",
   "metadata": {},
   "source": [
    "Users interacting with the course decreased during the online course. The course got harder and it is typical pattern present in the MOOC courses."
   ]
  },
  {
   "cell_type": "code",
   "execution_count": 62,
   "metadata": {
    "collapsed": false,
    "scrolled": false
   },
   "outputs": [
    {
     "data": {
      "text/plain": [
       "[<matplotlib.text.Text at 0x7fa4b14b8cd0>,\n",
       " <matplotlib.text.Text at 0x7fa4b14a2d50>]"
      ]
     },
     "execution_count": 62,
     "metadata": {},
     "output_type": "execute_result"
    },
    {
     "data": {
      "image/png": "[encoded data removed]",
      "text/plain": [
       "<matplotlib.figure.Figure at 0x7fa4b177da50>"
      ]
     },
     "metadata": {},
     "output_type": "display_data"
    },
    {
     "data": {
      "image/png": "[encoded data removed]",
      "text/plain": [
       "<matplotlib.figure.Figure at 0x7fa4b17ab850>"
      ]
     },
     "metadata": {},
     "output_type": "display_data"
    }
   ],
   "source": [
    "fig, (ax1, ax2) = plt.subplots(ncols=2, sharey=True, figsize=(12,5))\n",
    "start_df.groupby('ab_group_id')[\"answers_count\", \"questions_count\", \"comments_count\", \"unique_users_contributing\"].sum().plot(ax=ax1, kind=\"bar\", title=\"Before online experiment\")\n",
    "ax1.set(xlabel='AB group id', ylabel='Absolute frequency')\n",
    "\n",
    "end_df.groupby('ab_group_id')[\"answers_count\", \"questions_count\", \"comments_count\", \"unique_users_contributing\"].sum().plot(ax=ax2, kind=\"bar\", title=\"During online experiment\")\n",
    "ax2.set(xlabel='AB group id', ylabel='Absolute frequency')\n",
    "\n",
    "# Normalization by number of active users\n",
    "start_df['questions_count_change']= start_df['questions_count']*100 / start_df['unique_users_interacting']\n",
    "start_df['answers_count_change']= start_df['answers_count']*100 / start_df['unique_users_interacting']\n",
    "start_df['comments_count_change']= start_df['comments_count']*100 / start_df['unique_users_interacting']\n",
    "start_df['users_contributing_change']= start_df['unique_users_contributing']*100 / start_df['unique_users_interacting']\n",
    "end_df['questions_count_change']= end_df['questions_count']*100 / end_df['unique_users_interacting']\n",
    "end_df['answers_count_change']= end_df['answers_count']*100 / end_df['unique_users_interacting']\n",
    "end_df['comments_count_change']= end_df['comments_count']*100 / end_df['unique_users_interacting']\n",
    "end_df['users_contributing_change']= end_df['unique_users_contributing']*100 / end_df['unique_users_interacting']\n",
    "\n",
    "fig, (ax1, ax2) = plt.subplots(ncols=2, sharey=True, figsize=(12,5))\n",
    "start_df.groupby('ab_group_id')[\"answers_count_change\", \"questions_count_change\", \"comments_count_change\", \"users_contributing_change\"].sum()\\\n",
    "    .plot(kind=\"bar\", title=\"Percentage change before online experiment \\ncompared to number active users during period\", ax=ax1)\n",
    "ax1.set(xlabel='AB group id', ylabel='Percentage [%]')\n",
    "\n",
    "end_df.groupby('ab_group_id')[\"answers_count_change\", \"questions_count_change\", \"comments_count_change\", \"users_contributing_change\"].sum()\\\n",
    "    .plot(kind=\"bar\", title=\"Percentage change during online experiment \\ncompared to number of active users during period\", ax=ax2)\n",
    "ax2.set(xlabel='AB group id', ylabel='Percentage [%]')"
   ]
  },
  {
   "cell_type": "markdown",
   "metadata": {},
   "source": [
    "### Question recommendation lowered instructors load by 5%"
   ]
  },
  {
   "cell_type": "code",
   "execution_count": 63,
   "metadata": {
    "collapsed": false
   },
   "outputs": [
    {
     "name": "stdout",
     "output_type": "stream",
     "text": [
      "Professor answers before online experiment: 45\n",
      "Teaching assistants contributing 34.60% of all contributions before online experiment.\n",
      "Teaching assistants contributing 31.74% of all contributions during online experiment.\n"
     ]
    }
   ],
   "source": [
    "prof_answers_before = psql.read_sql(\"SELECT COUNT(a.author_id) FROM answers a JOIN ab_groupings ab ON a.author_id = ab.user_id \"\n",
    "                    \"JOIN questions q ON q.id=a.question_id WHERE a.created_at < '2016-11-14' AND a.author_id = 4\", connection)\n",
    "print(\"Professor answers before online experiment: %d\" % prof_answers_before['count'])\n",
    "\n",
    "TAs = psql.read_sql(\"\"\"SELECT DISTINCT(user_id) FROM assignments\"\"\",connection)\n",
    "\n",
    "contributions = psql.read_sql(\"\"\"\n",
    "    SELECT a.author_id, ab.ab_group_id, a.created_at FROM answers a JOIN ab_groupings ab ON a.author_id = ab.user_id\n",
    "    JOIN questions q ON q.id=a.question_id\n",
    "    UNION ALL\n",
    "    SELECT c.author_id, ab.ab_group_id, c.created_at FROM comments c JOIN ab_groupings ab ON c.author_id = ab.user_id\n",
    "    \"\"\", connection)\n",
    "\n",
    "total_end_contributions = answers_end.shape[0] + comments_end.shape[0]\n",
    "total_before_contributions = answers_start.shape[0] + comments_start.shape[0]\n",
    "\n",
    "\n",
    "contributions_before = contributions[(contributions['created_at'] < '2016-11-14')]\n",
    "print(\"Teaching assistants contributing %.2f%% of all contributions before online experiment.\" % (contributions_before['author_id'].isin(TAs['user_id']).sum()*100 / float(total_before_contributions)))\n",
    "\n",
    "contributions_end = contributions[(contributions['created_at'] >= '2016-11-14') & (contributions['created_at'] < '2016-12-20')]\n",
    "print(\"Teaching assistants contributing %.2f%% of all contributions during online experiment.\" % (contributions_end['author_id'].isin(TAs['user_id']).sum()*100 / float(total_end_contributions)))\n",
    "#contributions_end[~contributions_end['author_id'].isin(TAs['user_id'])]['author_id'].count()"
   ]
  },
  {
   "cell_type": "markdown",
   "metadata": {},
   "source": [
    "Note: Professor is part of group 1 and he had 45 answers before online experiment (nearly half of answers for group 1), which caused not equal distribution of answers count when splitting users to the groups.  "
   ]
  },
  {
   "cell_type": "markdown",
   "metadata": {},
   "source": [
    "## Proposed question routing framework has covered 48% of active CQA users. \n",
    "Recommendation coverage - how many unique users did get the recommendation? \n",
    "\n",
    "Active users are users who have seen at least one question in CQA system."
   ]
  },
  {
   "cell_type": "code",
   "execution_count": 64,
   "metadata": {
    "collapsed": false
   },
   "outputs": [
    {
     "data": {
      "text/html": [
       "<div>\n",
       "<table border=\"1\" class=\"dataframe\">\n",
       "  <thead>\n",
       "    <tr style=\"text-align: right;\">\n",
       "      <th></th>\n",
       "      <th>ab_group_id</th>\n",
       "      <th>total_recommended_to_users</th>\n",
       "      <th>total_active_users</th>\n",
       "      <th>user_coverage</th>\n",
       "    </tr>\n",
       "  </thead>\n",
       "  <tbody>\n",
       "    <tr>\n",
       "      <th>0</th>\n",
       "      <td>1</td>\n",
       "      <td>134</td>\n",
       "      <td>544</td>\n",
       "      <td>0.246324</td>\n",
       "    </tr>\n",
       "    <tr>\n",
       "      <th>1</th>\n",
       "      <td>2</td>\n",
       "      <td>130</td>\n",
       "      <td>544</td>\n",
       "      <td>0.238971</td>\n",
       "    </tr>\n",
       "  </tbody>\n",
       "</table>\n",
       "</div>"
      ],
      "text/plain": [
       "   ab_group_id  total_recommended_to_users  total_active_users  user_coverage\n",
       "0            1                         134                 544       0.246324\n",
       "1            2                         130                 544       0.238971"
      ]
     },
     "metadata": {},
     "output_type": "display_data"
    },
    {
     "name": "stdout",
     "output_type": "stream",
     "text": [
      "Total user coverage: 0.485294\n"
     ]
    }
   ],
   "source": [
    "users_coverage = psql.read_sql(\"\"\"\n",
    "    WITH active_users AS (\n",
    "      SELECT COUNT(*) from users u JOIN ab_groupings ab ON u.id = ab.user_id \n",
    "      WHERE u.views_count > 0 AND ab.ab_group_id != 3\n",
    "    )\n",
    "    SELECT ab.ab_group_id, COUNT(DISTINCT(ab.user_id)) AS total_recommended_to_users, (SELECT * FROM active_users) AS total_active_users, \n",
    "    COUNT(DISTINCT(ab.user_id)) / (SELECT * FROM active_users)::float AS user_coverage FROM notifications as n \n",
    "    JOIN ab_groupings ab ON ab.user_id = n.recipient_id \n",
    "    WHERE n.action = 'recommendation' AND n.created_at < '2016-12-20'\n",
    "    GROUP BY ab.ab_group_id\n",
    "    \"\"\", connection)\n",
    "display(users_coverage)\n",
    "print(\"Total user coverage: %f\" % users_coverage['user_coverage'].sum())"
   ]
  },
  {
   "cell_type": "markdown",
   "metadata": {},
   "source": [
    "## Question recommendation increased question answering success rate\n",
    "Question answering success rate is number of questions with at least one answer.\n",
    "\n",
    "Note: Hello topics are removed as an answer is not expected to them. Only questions are considered, not discussions and bug reports."
   ]
  },
  {
   "cell_type": "code",
   "execution_count": 65,
   "metadata": {
    "collapsed": false
   },
   "outputs": [
    {
     "name": "stdout",
     "output_type": "stream",
     "text": [
      "Success rate before online experiment: 77.632 %\n",
      "Success rate during online experiment: 79.452 %\n"
     ]
    }
   ],
   "source": [
    "questions_before = psql.read_sql(\"\"\"\n",
    "            SELECT q.id, q.title, COUNT(a.id) AS answers_count FROM questions q \n",
    "            LEFT JOIN answers a ON (a.question_id=q.id AND a.created_at < '2016-11-14')\n",
    "            WHERE q.created_at < '2016-11-14' AND question_type_id = 1 \n",
    "            GROUP BY q.id\n",
    "            \"\"\",connection)\n",
    "\n",
    "questions_during = psql.read_sql(\"\"\"\n",
    "            SELECT q.id, q.title, COUNT(a.id) AS answers_count FROM questions q \n",
    "            LEFT JOIN answers a ON (a.question_id=q.id AND a.created_at >= '2016-11-14' \n",
    "                                    AND a.created_at < '2016-12-20')\n",
    "            WHERE q.created_at >= '2016-11-14' AND q.created_at < '2016-12-20' AND question_type_id = 1 \n",
    "            GROUP BY q.id\n",
    "            \"\"\",connection)\n",
    "before_success_rate = (questions_before['answers_count'] != 0).sum()*100 / float(len(questions_before))\n",
    "during_success_rate = (questions_during['answers_count'] != 0).sum()*100 / float(len(questions_during))\n",
    "\n",
    "print(\"Success rate before online experiment: %.3f %%\" % before_success_rate)\n",
    "print(\"Success rate during online experiment: %.3f %%\" % during_success_rate)"
   ]
  },
  {
   "cell_type": "markdown",
   "metadata": {},
   "source": [
    "### Average answer quality decreased with a recommendation.\n",
    "Quality of answers is estimated by number of earned votes for a particular answer."
   ]
  },
  {
   "cell_type": "code",
   "execution_count": 66,
   "metadata": {
    "collapsed": false
   },
   "outputs": [
    {
     "data": {
      "text/html": [
       "<div>\n",
       "<table border=\"1\" class=\"dataframe\">\n",
       "  <thead>\n",
       "    <tr style=\"text-align: right;\">\n",
       "      <th></th>\n",
       "      <th>quality_before</th>\n",
       "      <th>quality_during</th>\n",
       "    </tr>\n",
       "  </thead>\n",
       "  <tbody>\n",
       "    <tr>\n",
       "      <th>0</th>\n",
       "      <td>0.521236</td>\n",
       "      <td>0.40146</td>\n",
       "    </tr>\n",
       "  </tbody>\n",
       "</table>\n",
       "</div>"
      ],
      "text/plain": [
       "   quality_before  quality_during\n",
       "0        0.521236         0.40146"
      ]
     },
     "execution_count": 66,
     "metadata": {},
     "output_type": "execute_result"
    }
   ],
   "source": [
    "quality = psql.read_sql(\"\"\"\n",
    "            SELECT (SELECT AVG(a.votes_difference) FROM answers a\n",
    "            JOIN questions q ON q.id=a.question_id\n",
    "            WHERE a.created_at < '2016-11-14') as quality_before, \n",
    "            (SELECT AVG(a.votes_difference) FROM answers a\n",
    "            JOIN questions q ON q.id=a.question_id\n",
    "            WHERE a.created_at >= '2016-11-14' AND a.created_at < '2016-12-20') as quality_during\n",
    "          \"\"\", connection)\n",
    "quality"
   ]
  },
  {
   "cell_type": "markdown",
   "metadata": {},
   "source": [
    "### Average time to answer increased with a recommendation"
   ]
  },
  {
   "cell_type": "code",
   "execution_count": 67,
   "metadata": {
    "collapsed": false
   },
   "outputs": [
    {
     "name": "stdout",
     "output_type": "stream",
     "text": [
      "Average time to answer before online experiment\n",
      "1 days 00:25:24.515813\n",
      "Average time to answer during online experiment\n",
      "1 days 16:00:44.794221\n",
      "Average time to answer incresed with question recommendation by:\n",
      "0 days 15:35:20.278407\n"
     ]
    }
   ],
   "source": [
    "before_answers_time = psql.read_sql(\"\"\"\n",
    "            SELECT q.id, q.created_at, MIN(a.created_at) AS first_answer_time FROM questions q\n",
    "            JOIN answers a ON (a.question_id=q.id AND a.created_at < '2016-11-14')\n",
    "            WHERE q.created_at < '2016-11-14'\n",
    "            GROUP BY q.id\n",
    "            \"\"\",connection)\n",
    "\n",
    "during_answers_time = psql.read_sql(\"\"\"\n",
    "            SELECT q.id, q.created_at, MIN(a.created_at) AS first_answer_time FROM questions q\n",
    "            JOIN answers a ON (a.question_id=q.id AND a.created_at >= '2016-11-14' AND a.created_at < '2016-12-20')\n",
    "            WHERE q.created_at >= '2016-11-14' AND q.created_at < '2016-12-20'\n",
    "            GROUP BY q.id\n",
    "            \"\"\",connection)\n",
    "\n",
    "print(\"Average time to answer before online experiment\")\n",
    "avg_time_before = (before_answers_time['first_answer_time'] - before_answers_time['created_at']).sum() / len(before_answers_time) \n",
    "print(avg_time_before)\n",
    "\n",
    "print(\"Average time to answer during online experiment\")\n",
    "avg_time_during = (during_answers_time['first_answer_time'] - during_answers_time['created_at']).sum() / len(during_answers_time)\n",
    "print(avg_time_during)\n",
    "\n",
    "print(\"Average time to answer incresed with question recommendation by:\")\n",
    "print(avg_time_during - avg_time_before)"
   ]
  },
  {
   "cell_type": "markdown",
   "metadata": {
    "collapsed": true
   },
   "source": [
    "### Contributing users for each week compared to active users in a week did not change\n",
    "Contribution is defined as asking, answering and commenting. Active user is a user who saw any question during a particular week."
   ]
  },
  {
   "cell_type": "code",
   "execution_count": 73,
   "metadata": {
    "collapsed": false
   },
   "outputs": [
    {
     "data": {
      "text/html": [
       "<div>\n",
       "<table border=\"1\" class=\"dataframe\">\n",
       "  <thead>\n",
       "    <tr style=\"text-align: right;\">\n",
       "      <th></th>\n",
       "      <th>weekly</th>\n",
       "      <th>Contributing users</th>\n",
       "      <th>Active users</th>\n",
       "      <th>Contributing to active portion</th>\n",
       "    </tr>\n",
       "  </thead>\n",
       "  <tbody>\n",
       "    <tr>\n",
       "      <th>1</th>\n",
       "      <td>2016-10-10 00:00:00+02:00</td>\n",
       "      <td>48</td>\n",
       "      <td>1661</td>\n",
       "      <td>2.889825</td>\n",
       "    </tr>\n",
       "    <tr>\n",
       "      <th>2</th>\n",
       "      <td>2016-10-17 00:00:00+02:00</td>\n",
       "      <td>52</td>\n",
       "      <td>919</td>\n",
       "      <td>5.658324</td>\n",
       "    </tr>\n",
       "    <tr>\n",
       "      <th>3</th>\n",
       "      <td>2016-10-24 00:00:00+02:00</td>\n",
       "      <td>36</td>\n",
       "      <td>730</td>\n",
       "      <td>4.931507</td>\n",
       "    </tr>\n",
       "    <tr>\n",
       "      <th>4</th>\n",
       "      <td>2016-10-31 00:00:00+01:00</td>\n",
       "      <td>26</td>\n",
       "      <td>614</td>\n",
       "      <td>4.234528</td>\n",
       "    </tr>\n",
       "    <tr>\n",
       "      <th>5</th>\n",
       "      <td>2016-11-07 00:00:00+01:00</td>\n",
       "      <td>21</td>\n",
       "      <td>513</td>\n",
       "      <td>4.093567</td>\n",
       "    </tr>\n",
       "  </tbody>\n",
       "</table>\n",
       "</div>"
      ],
      "text/plain": [
       "                      weekly  Contributing users  Active users  \\\n",
       "1  2016-10-10 00:00:00+02:00                  48          1661   \n",
       "2  2016-10-17 00:00:00+02:00                  52           919   \n",
       "3  2016-10-24 00:00:00+02:00                  36           730   \n",
       "4  2016-10-31 00:00:00+01:00                  26           614   \n",
       "5  2016-11-07 00:00:00+01:00                  21           513   \n",
       "\n",
       "   Contributing to active portion  \n",
       "1                        2.889825  \n",
       "2                        5.658324  \n",
       "3                        4.931507  \n",
       "4                        4.234528  \n",
       "5                        4.093567  "
      ]
     },
     "metadata": {},
     "output_type": "display_data"
    },
    {
     "data": {
      "text/html": [
       "<div>\n",
       "<table border=\"1\" class=\"dataframe\">\n",
       "  <thead>\n",
       "    <tr style=\"text-align: right;\">\n",
       "      <th></th>\n",
       "      <th>weekly</th>\n",
       "      <th>Contributing users</th>\n",
       "      <th>Active users</th>\n",
       "      <th>Contributing to active portion</th>\n",
       "    </tr>\n",
       "  </thead>\n",
       "  <tbody>\n",
       "    <tr>\n",
       "      <th>6</th>\n",
       "      <td>2016-11-14 00:00:00+01:00</td>\n",
       "      <td>23</td>\n",
       "      <td>535</td>\n",
       "      <td>4.299065</td>\n",
       "    </tr>\n",
       "    <tr>\n",
       "      <th>7</th>\n",
       "      <td>2016-11-21 00:00:00+01:00</td>\n",
       "      <td>27</td>\n",
       "      <td>478</td>\n",
       "      <td>5.648536</td>\n",
       "    </tr>\n",
       "    <tr>\n",
       "      <th>8</th>\n",
       "      <td>2016-11-28 00:00:00+01:00</td>\n",
       "      <td>23</td>\n",
       "      <td>617</td>\n",
       "      <td>3.727715</td>\n",
       "    </tr>\n",
       "    <tr>\n",
       "      <th>9</th>\n",
       "      <td>2016-12-05 00:00:00+01:00</td>\n",
       "      <td>21</td>\n",
       "      <td>463</td>\n",
       "      <td>4.535637</td>\n",
       "    </tr>\n",
       "    <tr>\n",
       "      <th>10</th>\n",
       "      <td>2016-12-12 00:00:00+01:00</td>\n",
       "      <td>31</td>\n",
       "      <td>545</td>\n",
       "      <td>5.688073</td>\n",
       "    </tr>\n",
       "  </tbody>\n",
       "</table>\n",
       "</div>"
      ],
      "text/plain": [
       "                       weekly  Contributing users  Active users  \\\n",
       "6   2016-11-14 00:00:00+01:00                  23           535   \n",
       "7   2016-11-21 00:00:00+01:00                  27           478   \n",
       "8   2016-11-28 00:00:00+01:00                  23           617   \n",
       "9   2016-12-05 00:00:00+01:00                  21           463   \n",
       "10  2016-12-12 00:00:00+01:00                  31           545   \n",
       "\n",
       "    Contributing to active portion  \n",
       "6                         4.299065  \n",
       "7                         5.648536  \n",
       "8                         3.727715  \n",
       "9                         4.535637  \n",
       "10                        5.688073  "
      ]
     },
     "metadata": {},
     "output_type": "display_data"
    },
    {
     "name": "stdout",
     "output_type": "stream",
     "text": [
      "Recommendation effect size: 0.418\n"
     ]
    }
   ],
   "source": [
    "contributing_users = psql.read_sql(\"\"\"\n",
    "    SELECT date_trunc('week', a.created_at::date) AS weekly, COUNT(DISTINCT(a.initiator_id)) as \"Contributing users\"\n",
    "    FROM activities a\n",
    "    WHERE a.resource_type IN ('Shared::Question', 'Shared::Answer', 'Shared::Comment')\n",
    "    AND a.created_at > '2016-10-03' AND a.created_at < '2016-12-19' AND a.action='create'\n",
    "    GROUP BY weekly\n",
    "    ORDER BY weekly\n",
    "          \"\"\", connection)\n",
    "active_users = psql.read_sql(\"\"\"\n",
    "    SELECT date_trunc('week', a.created_at::date) AS weekly, COUNT(DISTINCT(a.initiator_id)) as \"Active users\" \n",
    "    FROM activities a\n",
    "    WHERE a.created_at > '2016-10-03' AND a.created_at < '2016-12-19' AND a.action='create'\n",
    "    GROUP BY weekly\n",
    "    ORDER BY weekly\n",
    "          \"\"\", connection)\n",
    "users = pd.merge(contributing_users, active_users, on='weekly', how='inner')\n",
    "users['Contributing to active portion'] = users['Contributing users']*100 / users['Active users']\n",
    "display(users.ix[1:5])\n",
    "display(users.ix[6:])\n",
    "\n",
    "print(\"Recommendation effect size: %.3f\" % (users.ix[6:]['Contributing to active portion'].mean() - users.ix[1:5]['Contributing to active portion'].mean()))"
   ]
  },
  {
   "cell_type": "markdown",
   "metadata": {
    "collapsed": true
   },
   "source": [
    "## Anova"
   ]
  },
  {
   "cell_type": "code",
   "execution_count": 74,
   "metadata": {
    "collapsed": false
   },
   "outputs": [
    {
     "name": "stdout",
     "output_type": "stream",
     "text": [
      "Votes difference: \t\tEducational 0.461 \tBaseline 0.800 \t\tControl 0.341\n",
      "Time to answer difference: \tEducational 3957.645 \tBaseline 1587.400 \t\tControl 4889.244\n"
     ]
    },
    {
     "data": {
      "text/plain": [
       "Ttest_indResult(statistic=-0.79438988801703714, pvalue=0.42934843075895845)"
      ]
     },
     "metadata": {},
     "output_type": "display_data"
    },
    {
     "data": {
      "text/plain": [
       "Ttest_indResult(statistic=0.77353755058492357, pvalue=0.44151288804296052)"
      ]
     },
     "execution_count": 74,
     "metadata": {},
     "output_type": "execute_result"
    }
   ],
   "source": [
    "df = psql.read_sql(\"\"\"\n",
    "    SELECT a.author_id, ab.ab_group_id, a.votes_difference, (a.created_at - q.created_at) as \"time to answer\" FROM answers a JOIN ab_groupings ab ON a.author_id = ab.user_id\n",
    "    JOIN questions q ON q.id=a.question_id \n",
    "    WHERE q.created_at >= '2016-11-14' AND q.created_at < '2016-12-20'\n",
    "    \"\"\", connection)\n",
    "df['time to answer'] = df['time to answer'].astype('timedelta64[m]')\n",
    "\n",
    "full_rec_group = df[df['ab_group_id'] == 1].copy().reset_index()\n",
    "baseline_rec_group = df[df['ab_group_id'] == 2].copy().reset_index()\n",
    "control_group = df[df['ab_group_id'] == 3].copy().reset_index()\n",
    "\n",
    "print(\"Votes difference: \\t\\tEducational %.3f \\tBaseline %.3f \\t\\tControl %.3f\" % (full_rec_group['votes_difference'].mean(), baseline_rec_group['votes_difference'].mean(), control_group['votes_difference'].mean()))\n",
    "print(\"Time to answer difference: \\tEducational %.3f \\tBaseline %.3f \\t\\tControl %.3f\" % (full_rec_group['time to answer'].mean(), baseline_rec_group['time to answer'].mean(), control_group['time to answer'].mean()))\n",
    "\n",
    "display(stats.ttest_ind(full_rec_group['votes_difference'], baseline_rec_group['votes_difference']))\n",
    "stats.ttest_ind(full_rec_group['time to answer'], baseline_rec_group['time to answer'])\n",
    "#stats.f_oneway(full_rec_group, baseline_rec_group, control_group)"
   ]
  },
  {
   "cell_type": "code",
   "execution_count": null,
   "metadata": {
    "collapsed": true
   },
   "outputs": [],
   "source": []
  }
 ],
 "metadata": {
  "anaconda-cloud": {},
  "kernelspec": {
   "display_name": "Python [conda env:askalot]",
   "language": "python",
   "name": "conda-env-askalot-py"
  },
  "language_info": {
   "codemirror_mode": {
    "name": "ipython",
    "version": 2
   },
   "file_extension": ".py",
   "mimetype": "text/x-python",
   "name": "python",
   "nbconvert_exporter": "python",
   "pygments_lexer": "ipython2",
   "version": "2.7.12"
  }
 },
 "nbformat": 4,
 "nbformat_minor": 0
}
